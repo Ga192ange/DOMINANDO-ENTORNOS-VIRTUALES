{
 "cells": [
  {
   "cell_type": "code",
   "execution_count": 2,
   "id": "82ee64b5-08c2-4719-8f2b-6020d5abb2d5",
   "metadata": {},
   "outputs": [
    {
     "name": "stdin",
     "output_type": "stream",
     "text": [
      "Ingresa números separados por comas:  1,2,3,4,5\n"
     ]
    },
    {
     "name": "stdout",
     "output_type": "stream",
     "text": [
      "\n",
      "Lista ingresada: [1, 2, 3, 4, 5]\n",
      "Promedio: 3.0\n",
      "Número mayor: 5\n",
      "Número menor: 1\n",
      "Números mayores al promedio: [4, 5]\n",
      "\n",
      "Programa finalizado\n"
     ]
    }
   ],
   "source": [
    "entrada = input(\"Ingresa números separados por comas: \")\n",
    "\n",
    "numeros = [int(n) for n in entrada.split(\",\")]\n",
    "\n",
    "\n",
    "print(\"\\nLista ingresada:\", numeros)\n",
    "\n",
    "\n",
    "promedio = sum(numeros) / len(numeros)\n",
    "print(\"Promedio:\", promedio)\n",
    "\n",
    "\n",
    "print(\"Número mayor:\", max(numeros))\n",
    "print(\"Número menor:\", min(numeros))\n",
    "\n",
    "\n",
    "mayores = [n for n in numeros if n > promedio]\n",
    "print(\"Números mayores al promedio:\", mayores)\n",
    "\n",
    "print(\"\\nPrograma finalizado\")\n",
    "\n"
   ]
  },
  {
   "cell_type": "code",
   "execution_count": null,
   "id": "78542247-bfd5-41fd-a372-be6f641f3fc3",
   "metadata": {},
   "outputs": [],
   "source": []
  }
 ],
 "metadata": {
  "kernelspec": {
   "display_name": "Python 3 (ipykernel)",
   "language": "python",
   "name": "python3"
  },
  "language_info": {
   "codemirror_mode": {
    "name": "ipython",
    "version": 3
   },
   "file_extension": ".py",
   "mimetype": "text/x-python",
   "name": "python",
   "nbconvert_exporter": "python",
   "pygments_lexer": "ipython3",
   "version": "3.13.9"
  }
 },
 "nbformat": 4,
 "nbformat_minor": 5
}
